{
 "metadata": {
  "language_info": {
   "codemirror_mode": {
    "name": "ipython",
    "version": 3
   },
   "file_extension": ".py",
   "mimetype": "text/x-python",
   "name": "python",
   "nbconvert_exporter": "python",
   "pygments_lexer": "ipython3",
   "version": "3.7.4-final"
  },
  "orig_nbformat": 2,
  "kernelspec": {
   "name": "Python 3.7.4 64-bit ('base': conda)",
   "display_name": "Python 3.7.4 64-bit ('base': conda)",
   "metadata": {
    "interpreter": {
     "hash": "4502b74be50d04a75252ae5423013aafe7ce28df370866ed43544ec338e3a630"
    }
   }
  }
 },
 "nbformat": 4,
 "nbformat_minor": 2,
 "cells": [
  {
   "cell_type": "code",
   "execution_count": 1,
   "metadata": {},
   "outputs": [],
   "source": [
    "import sys\n",
    "from getpass import getpass\n",
    "import webbrowser\n",
    "import requests\n",
    "import os\n",
    "import psycopg2\n",
    "import io\n",
    "import csv\n",
    "import requests\n",
    "import pandas as pd\n",
    "from datetime import date, datetime,timedelta\n",
    "from mechanize import Browser\n",
    "from bs4 import BeautifulSoup\n",
    "import pyotp\n",
    "import zipfile"
   ]
  },
  {
   "cell_type": "code",
   "execution_count": 11,
   "metadata": {},
   "outputs": [
    {
     "output_type": "execute_result",
     "data": {
      "text/plain": [
       "'scrape login page to get all the needed inputs required for login'"
      ]
     },
     "metadata": {},
     "execution_count": 11
    }
   ],
   "source": [
    "url = 'https://gitlab.com/ricardgardella'\n",
    "session = requests.Session()\n",
    "'''define session headers'''\n",
    "headers = {\n",
    "'User-Agent':'Mozilla/5.0 (Macintosh; Intel Mac OS X 10_10_3) AppleWebKit/537.36 (KHTML, like Gecko) Chrome/54.0.2840.71 Safari/537.36',\n",
    "'Accept': 'text/html,application/xhtml+xml,application/xml;q=0.9,*/*;q=0.8',\n",
    "'Accept-Language': 'en-US,en;q=0.5',\n",
    "'Referer': url,\n",
    "'Accept-Encoding': 'identity'\n",
    "}\n",
    "'''That page needs a login, there we do the login'''\n",
    "resp = session.get(url, headers = headers)\n",
    "html = resp.text    \n",
    "'''get BeautifulSoup object of the html of the login page'''\n",
    "soup = BeautifulSoup(html , 'lxml')\n",
    "'''scrape login page to get all the needed inputs required for login'''"
   ]
  },
  {
   "cell_type": "code",
   "execution_count": 14,
   "metadata": {},
   "outputs": [
    {
     "output_type": "execute_result",
     "data": {
      "text/plain": [
       "[]"
      ]
     },
     "metadata": {},
     "execution_count": 14
    }
   ],
   "source": [
    "resp.sources"
   ]
  },
  {
   "cell_type": "code",
   "execution_count": null,
   "metadata": {},
   "outputs": [],
   "source": []
  }
 ]
}
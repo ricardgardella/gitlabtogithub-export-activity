{
 "metadata": {
  "language_info": {
   "codemirror_mode": {
    "name": "ipython",
    "version": 3
   },
   "file_extension": ".py",
   "mimetype": "text/x-python",
   "name": "python",
   "nbconvert_exporter": "python",
   "pygments_lexer": "ipython3",
   "version": "3.7.4-final"
  },
  "orig_nbformat": 2,
  "kernelspec": {
   "name": "Python 3.7.4 64-bit ('base': conda)",
   "display_name": "Python 3.7.4 64-bit ('base': conda)",
   "metadata": {
    "interpreter": {
     "hash": "4502b74be50d04a75252ae5423013aafe7ce28df370866ed43544ec338e3a630"
    }
   }
  }
 },
 "nbformat": 4,
 "nbformat_minor": 2,
 "cells": [
  {
   "cell_type": "code",
   "execution_count": 63,
   "metadata": {},
   "outputs": [],
   "source": [
    "import sys\n",
    "from getpass import getpass\n",
    "import webbrowser\n",
    "import requests\n",
    "import os\n",
    "import psycopg2\n",
    "import io\n",
    "import csv\n",
    "import requests\n",
    "import pandas as pd\n",
    "from datetime import date, datetime,timedelta\n",
    "from mechanize import Browser\n",
    "from bs4 import BeautifulSoup\n",
    "import pyotp\n",
    "import zipfile\n",
    "import json\n",
    "import urllib"
   ]
  },
  {
   "cell_type": "code",
   "execution_count": 22,
   "metadata": {},
   "outputs": [],
   "source": [
    "username = 'ricardgardella' #your gitlab username goes here."
   ]
  },
  {
   "cell_type": "code",
   "execution_count": 89,
   "metadata": {},
   "outputs": [],
   "source": [
    "url = 'https://gitlab.com/users/{}/calendar.json'.format(username)\n",
    "session = requests.Session()\n",
    "'''That page needs a login, there we do the login'''\n",
    "resp = session.get(url)\n",
    "binary = resp.content\n",
    "output = json.loads(binary)"
   ]
  },
  {
   "cell_type": "code",
   "execution_count": null,
   "metadata": {},
   "outputs": [],
   "source": []
  }
 ]
}